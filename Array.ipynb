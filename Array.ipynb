{
  "nbformat": 4,
  "nbformat_minor": 0,
  "metadata": {
    "colab": {
      "provenance": [],
      "collapsed_sections": [],
      "authorship_tag": "ABX9TyNa3mG+ZBn8AFdhtyeQF0xM",
      "include_colab_link": true
    },
    "kernelspec": {
      "name": "python3",
      "display_name": "Python 3"
    },
    "language_info": {
      "name": "python"
    }
  },
  "cells": [
    {
      "cell_type": "markdown",
      "metadata": {
        "id": "view-in-github",
        "colab_type": "text"
      },
      "source": [
        "<a href=\"https://colab.research.google.com/github/milayacharlieCvSU/CPEN65-1/blob/main/Array.ipynb\" target=\"_parent\"><img src=\"https://colab.research.google.com/assets/colab-badge.svg\" alt=\"Open In Colab\"/></a>"
      ]
    },
    {
      "cell_type": "code",
      "execution_count": 1,
      "metadata": {
        "colab": {
          "base_uri": "https://localhost:8080/"
        },
        "id": "ZupFbOQw4NX8",
        "outputId": "d7a0e9d7-45eb-4f01-9b9c-34440e323fb2"
      },
      "outputs": [
        {
          "output_type": "stream",
          "name": "stdout",
          "text": [
            "animals[0] = cat\n",
            "animals[1] = dog\n",
            "animals[2] = fish\n"
          ]
        }
      ],
      "source": [
        "# Accessing the elements in an array.\n",
        "animals = ['cat', 'dog', 'fish']\n",
        "x = animals[0]\n",
        "y = animals[1]\n",
        "z = animals[2]\n",
        "print('animals[0] =', x)\n",
        "print('animals[1] =', y)\n",
        "print('animals[2] =', z)"
      ]
    },
    {
      "cell_type": "code",
      "source": [
        "# Modifying the element/s in the array.\n",
        "animals = ['cat', 'dog', 'fish']\n",
        "animals[0] = \"monkey\"\n",
        "x = animals[0]\n",
        "print('animals[0] =', x)\n",
        "print(animals)"
      ],
      "metadata": {
        "colab": {
          "base_uri": "https://localhost:8080/"
        },
        "id": "3PXC7cQj5RSM",
        "outputId": "bd2aaa81-34ab-4aa1-c38f-b22b0c2aaaef"
      },
      "execution_count": 3,
      "outputs": [
        {
          "output_type": "stream",
          "name": "stdout",
          "text": [
            "animals[0] = monkey\n",
            "['monkey', 'dog', 'fish']\n"
          ]
        }
      ]
    },
    {
      "cell_type": "code",
      "source": [
        "# Length of an array\n",
        "animals = ['monkey', 'dog', 'fish', 'cat', 'bird']\n",
        "v = len(animals)\n",
        "print(v)"
      ],
      "metadata": {
        "colab": {
          "base_uri": "https://localhost:8080/"
        },
        "id": "5l0OCqTm6EXU",
        "outputId": "d6e136aa-6d79-416e-86e7-5548b874e72a"
      },
      "execution_count": 5,
      "outputs": [
        {
          "output_type": "stream",
          "name": "stdout",
          "text": [
            "5\n"
          ]
        }
      ]
    },
    {
      "cell_type": "code",
      "source": [
        "# Looping array elements\n",
        "animals = ['monkey', 'dog', 'fish', 'cat', 'bird']\n",
        "for animal in animals:\n",
        "  print(animal)"
      ],
      "metadata": {
        "colab": {
          "base_uri": "https://localhost:8080/"
        },
        "id": "rsB9ORhT83Tc",
        "outputId": "6a58861e-c2d1-48ef-8cb9-a91e797f1f1e"
      },
      "execution_count": 7,
      "outputs": [
        {
          "output_type": "stream",
          "name": "stdout",
          "text": [
            "monkey\n",
            "dog\n",
            "fish\n",
            "cat\n",
            "bird\n"
          ]
        }
      ]
    },
    {
      "cell_type": "code",
      "source": [
        "# Looping array elements\n",
        "animals = ['monkey', 'dog', 'fish', 'cat', 'bird']\n",
        "for animal in animals:\n",
        "  print('animal[%s] = %s' % (animals.index(animal), animal))"
      ],
      "metadata": {
        "colab": {
          "base_uri": "https://localhost:8080/"
        },
        "id": "fHKRgqnN9Txc",
        "outputId": "881645ff-9848-4890-ada3-cfce42ccc0f3"
      },
      "execution_count": 9,
      "outputs": [
        {
          "output_type": "stream",
          "name": "stdout",
          "text": [
            "animal[0] = monkey\n",
            "animal[1] = dog\n",
            "animal[2] = fish\n",
            "animal[3] = cat\n",
            "animal[4] = bird\n"
          ]
        }
      ]
    },
    {
      "cell_type": "code",
      "source": [
        "animals = ['monkey', 'dog', 'fish', 'cat', 'bird']\n",
        "for i, animal in enumerate(animals):\n",
        "  print('animal[%s] = %s' % (i, animal))"
      ],
      "metadata": {
        "colab": {
          "base_uri": "https://localhost:8080/"
        },
        "id": "9erjGXoI6oL1",
        "outputId": "30c52cf7-24da-45db-f1af-55e1a78b7c9b"
      },
      "execution_count": 11,
      "outputs": [
        {
          "output_type": "stream",
          "name": "stdout",
          "text": [
            "animal[0] = monkey\n",
            "animal[1] = dog\n",
            "animal[2] = fish\n",
            "animal[3] = cat\n",
            "animal[4] = bird\n"
          ]
        }
      ]
    },
    {
      "cell_type": "code",
      "source": [
        "# Adding element/s in an array\n",
        "animals = ['monkey', 'dog', 'fish', 'cat', 'bird']\n",
        "animals.append('lion')\n",
        "print(animals)"
      ],
      "metadata": {
        "colab": {
          "base_uri": "https://localhost:8080/"
        },
        "id": "YPtwEdL09XLx",
        "outputId": "2405bd9a-11a3-479a-9558-3d895cf5c439"
      },
      "execution_count": 12,
      "outputs": [
        {
          "output_type": "stream",
          "name": "stdout",
          "text": [
            "['monkey', 'dog', 'fish', 'cat', 'bird', 'lion']\n"
          ]
        }
      ]
    },
    {
      "cell_type": "code",
      "source": [
        "# Let's Try\n",
        "# Write a Python program to insert a new item (11) efore the second element in \n",
        "# an existing array.\n",
        "numbers = [1, 2, 3, 4, 5, 6, 7, 8, 9, 10]\n",
        "numbers.insert(1, 11)\n",
        "print(numbers)"
      ],
      "metadata": {
        "colab": {
          "base_uri": "https://localhost:8080/"
        },
        "id": "MVdNFax_9vhc",
        "outputId": "446df817-aabf-47cc-bbe2-22e9832ad9b7"
      },
      "execution_count": 17,
      "outputs": [
        {
          "output_type": "stream",
          "name": "stdout",
          "text": [
            "[1, 11, 2, 3, 4, 5, 6, 7, 8, 9, 10]\n"
          ]
        }
      ]
    },
    {
      "cell_type": "code",
      "source": [
        "# Removing element/s in the array\n",
        "numbers.pop(1)\n",
        "print(numbers)"
      ],
      "metadata": {
        "colab": {
          "base_uri": "https://localhost:8080/"
        },
        "id": "Cz4e5JrN-010",
        "outputId": "baedfb83-8cc0-4adb-8e92-ff757f0c26ff"
      },
      "execution_count": 19,
      "outputs": [
        {
          "output_type": "stream",
          "name": "stdout",
          "text": [
            "[1, 3, 4, 5, 6, 7, 8, 9, 10]\n"
          ]
        }
      ]
    }
  ]
}