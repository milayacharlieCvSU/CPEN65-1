{
  "nbformat": 4,
  "nbformat_minor": 0,
  "metadata": {
    "colab": {
      "provenance": [],
      "authorship_tag": "ABX9TyOtbV6XqWzZvX5idumbrA2B",
      "include_colab_link": true
    },
    "kernelspec": {
      "name": "python3",
      "display_name": "Python 3"
    },
    "language_info": {
      "name": "python"
    }
  },
  "cells": [
    {
      "cell_type": "markdown",
      "metadata": {
        "id": "view-in-github",
        "colab_type": "text"
      },
      "source": [
        "<a href=\"https://colab.research.google.com/github/milayacharlieCvSU/CPEN65-1/blob/main/Assignment_1.ipynb\" target=\"_parent\"><img src=\"https://colab.research.google.com/assets/colab-badge.svg\" alt=\"Open In Colab\"/></a>"
      ]
    },
    {
      "cell_type": "code",
      "execution_count": 1,
      "metadata": {
        "id": "bZdp7JrpvVma",
        "colab": {
          "base_uri": "https://localhost:8080/"
        },
        "outputId": "40f1b03e-daa3-4e34-de00-d8b32df7794e"
      },
      "outputs": [
        {
          "name": "stdout",
          "output_type": "stream",
          "text": [
            "Choose the value's property (Radius [r], Diameter [d]): a\n",
            "Incorrect code has been entered.\n",
            "Do you want another calculation (y/n)? \n",
            "y\n",
            "Choose the value's property (Radius [r], Diameter [d]): r\n",
            "Enter the circle's radius:    3\n",
            "The circle's area is 28.27.\n",
            "Do you want another calculation (y/n)? \n",
            "y\n",
            "Choose the value's property (Radius [r], Diameter [d]): d\n",
            "Enter the circle's diameter:  6\n",
            "The circle's area is 28.27.\n",
            "Do you want another calculation (y/n)? \n",
            "n\n"
          ]
        }
      ],
      "source": [
        "# Python program that computes the area of a circle\n",
        "from math import pi\n",
        "\n",
        "\n",
        "class CircleArea:\n",
        "    def __init__(self, value):\n",
        "        self.value = value\n",
        "\n",
        "    def areaR(self):\n",
        "        print(\"The circle's area is %.2f.\" % (pi * self.value ** 2))\n",
        "\n",
        "    def areaD(self):\n",
        "        print(\"The circle's area is %.2f.\" % (pi * self.value ** 2 / 4))\n",
        "\n",
        "\n",
        "comp_rep = \"y\"\n",
        "while comp_rep == \"y\":\n",
        "    var = input(\"Choose the value's property (Radius [r], Diameter [d]): \")\n",
        "    if var == 'r':\n",
        "        r = float(input(\"Enter the circle's radius:    \"))\n",
        "        CircleArea(r).areaR()\n",
        "    elif var == 'd':\n",
        "        d = float(input(\"Enter the circle's diameter:  \"))\n",
        "        CircleArea(d).areaD()\n",
        "    else:\n",
        "        print(\"Incorrect code has been entered.\")\n",
        "    comp_rep = input('Do you want another calculation (y/n)? \\n')"
      ]
    }
  ]
}