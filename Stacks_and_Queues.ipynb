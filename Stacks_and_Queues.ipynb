{
  "nbformat": 4,
  "nbformat_minor": 0,
  "metadata": {
    "colab": {
      "provenance": [],
      "authorship_tag": "ABX9TyNxuPkKf1D0jQllmoBqFZLH",
      "include_colab_link": true
    },
    "kernelspec": {
      "name": "python3",
      "display_name": "Python 3"
    },
    "language_info": {
      "name": "python"
    }
  },
  "cells": [
    {
      "cell_type": "markdown",
      "metadata": {
        "id": "view-in-github",
        "colab_type": "text"
      },
      "source": [
        "<a href=\"https://colab.research.google.com/github/milayacharlieCvSU/CPEN65-1/blob/main/Stacks_and_Queues.ipynb\" target=\"_parent\"><img src=\"https://colab.research.google.com/assets/colab-badge.svg\" alt=\"Open In Colab\"/></a>"
      ]
    },
    {
      "cell_type": "code",
      "execution_count": 3,
      "metadata": {
        "colab": {
          "base_uri": "https://localhost:8080/"
        },
        "id": "gsqtF_IkgKP3",
        "outputId": "ebadb8a5-80d2-4b62-f8ca-33a57591dc74"
      },
      "outputs": [
        {
          "output_type": "stream",
          "name": "stdout",
          "text": [
            "['A']\n",
            "['A', 'B']\n",
            "['A', 'B', 'C']\n",
            "['A', 'B']\n",
            "['A']\n"
          ]
        }
      ],
      "source": [
        "class Stack:\n",
        "  def __init__(self):\n",
        "    self.stack = []\n",
        "  \n",
        "  def push(self, dataval):\n",
        "    if dataval in self.stack:\n",
        "      return False\n",
        "    return self.stack.append(dataval)\n",
        "\n",
        "  def pop(self):\n",
        "    if len(self.stack) <= 0:\n",
        "       return \"No element in the stack.\"\n",
        "    return self.stack.pop()\n",
        "\n",
        "AStack = Stack()\n",
        "AStack.push(\"A\")\n",
        "print(AStack.stack)\n",
        "AStack.push(\"B\")\n",
        "print(AStack.stack)\n",
        "AStack.push(\"C\")\n",
        "print(AStack.stack)\n",
        "AStack.pop()\n",
        "print(AStack.stack)\n",
        "AStack.pop()\n",
        "print(AStack.stack)"
      ]
    },
    {
      "cell_type": "markdown",
      "source": [
        "### Application 1\n",
        "Implement the above program by using `Queue`'s Data Structure (enqueue and dequque/FIFO principle)"
      ],
      "metadata": {
        "id": "Z60oUD8tlTRT"
      }
    },
    {
      "cell_type": "code",
      "source": [
        "# Implement Queue (enqueue, dequeue)\n",
        "class Queue:\n",
        "  def __init__(self):\n",
        "    self.queue = []\n",
        "\n",
        "  def enqueue(self, dataval):\n",
        "    if dataval in self.queue:\n",
        "      return False\n",
        "    return self.queue.append(dataval)\n",
        "\n",
        "  def dequeue(self):\n",
        "    if len(self.queue) <= 0:\n",
        "      return \"No element in the queue.\"\n",
        "    return self.queue.pop(0)\n",
        "\n",
        "AQueue = Queue()\n",
        "AQueue.enqueue(\"A\")\n",
        "print(AQueue.queue)\n",
        "AQueue.enqueue(\"B\")\n",
        "print(AQueue.queue)\n",
        "AQueue.enqueue(\"C\")\n",
        "print(AQueue.queue)\n",
        "AQueue.dequeue()\n",
        "print(AQueue.queue)\n",
        "AQueue.dequeue()\n",
        "print(AQueue.queue)\n",
        "\n",
        "# Alternate Code with same functionality\n",
        "class AltQueue:\n",
        "  def __init__(self):\n",
        "    self.queue = []\n",
        "\n",
        "  def enqueue(self, dataval):\n",
        "    if dataval in self.queue:\n",
        "      return False\n",
        "    return self.queue.insert(0, dataval)\n",
        "\n",
        "  def dequeue(self):\n",
        "    if len(self.queue) <= 0:\n",
        "      return \"No element in the queue.\"\n",
        "    return self.queue.pop()\n",
        "\n",
        "print(\"\\nAltQueue Implementation\")\n",
        "Q = AltQueue()\n",
        "Q.enqueue(\"A\")\n",
        "print(Q.queue)\n",
        "Q.enqueue(\"B\")\n",
        "print(Q.queue)\n",
        "Q.enqueue(\"C\")\n",
        "print(Q.queue)\n",
        "Q.dequeue()\n",
        "print(Q.queue)\n",
        "Q.dequeue()\n",
        "print(Q.queue)"
      ],
      "metadata": {
        "colab": {
          "base_uri": "https://localhost:8080/"
        },
        "id": "bM2DchBeiCj3",
        "outputId": "baf8a045-c90a-4bf6-cc21-aece2d6be7cb"
      },
      "execution_count": 5,
      "outputs": [
        {
          "output_type": "stream",
          "name": "stdout",
          "text": [
            "['A']\n",
            "['A', 'B']\n",
            "['A', 'B', 'C']\n",
            "['B', 'C']\n",
            "['C']\n",
            "\n",
            "AltQueue Implementation\n",
            "['A']\n",
            "['B', 'A']\n",
            "['C', 'B', 'A']\n",
            "['C', 'B']\n",
            "['C']\n"
          ]
        }
      ]
    }
  ]
}