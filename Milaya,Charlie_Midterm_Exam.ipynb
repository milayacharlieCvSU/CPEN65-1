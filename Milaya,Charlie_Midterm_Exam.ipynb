{
  "nbformat": 4,
  "nbformat_minor": 0,
  "metadata": {
    "colab": {
      "provenance": [],
      "authorship_tag": "ABX9TyPS/wQUAXyG4sFboiUlzL8m",
      "include_colab_link": true
    },
    "kernelspec": {
      "name": "python3",
      "display_name": "Python 3"
    },
    "language_info": {
      "name": "python"
    }
  },
  "cells": [
    {
      "cell_type": "markdown",
      "metadata": {
        "id": "view-in-github",
        "colab_type": "text"
      },
      "source": [
        "<a href=\"https://colab.research.google.com/github/milayacharlieCvSU/CPEN65-1/blob/main/Milaya%2CCharlie_Midterm_Exam.ipynb\" target=\"_parent\"><img src=\"https://colab.research.google.com/assets/colab-badge.svg\" alt=\"Open In Colab\"/></a>"
      ]
    },
    {
      "cell_type": "markdown",
      "source": [
        "### Problem 1\n",
        "Write a Python program to create an array of 10 integers and display the array items. Access individual elements through indexes and compute for the sum."
      ],
      "metadata": {
        "id": "DT2X0WajIQ0k"
      }
    },
    {
      "cell_type": "code",
      "execution_count": 1,
      "metadata": {
        "colab": {
          "base_uri": "https://localhost:8080/"
        },
        "id": "D2MbDqV0H9-T",
        "outputId": "40a0080c-a414-40d4-f7f7-03a393d3eb03"
      },
      "outputs": [
        {
          "output_type": "stream",
          "name": "stdout",
          "text": [
            "numbers = [8, 20, 20, 15, 5, 10, 19, 7, 1, 18]\n",
            "numbers[0] =  8\n",
            "numbers[1] = 20\n",
            "numbers[2] = 20\n",
            "numbers[3] = 15\n",
            "numbers[4] =  5\n",
            "numbers[5] = 10\n",
            "numbers[6] = 19\n",
            "numbers[7] =  7\n",
            "numbers[8] =  1\n",
            "numbers[9] = 18\n",
            "Sum of integers in numbers: 123\n"
          ]
        }
      ],
      "source": [
        "from random import randint\n",
        "\n",
        "numbers = [randint(1, 20) for n in range(10)]\n",
        "print(\"numbers =\", numbers)\n",
        "\n",
        "total = 0\n",
        "for i in range(10):\n",
        "  total += numbers[i]\n",
        "  print(\"numbers[%d] = %2d\" % (i, numbers[i]))\n",
        "print(\"Sum of integers in numbers:\", total)"
      ]
    },
    {
      "cell_type": "markdown",
      "source": [
        "### Problem 2\n",
        "Write a Python program to append a new item to the end of the array. \\\\\n",
        "Original array: numbers = [1, 2, 3, 4, 5, 6, 7, 8, 9, 10]"
      ],
      "metadata": {
        "id": "TAbCOTqOKL8d"
      }
    },
    {
      "cell_type": "code",
      "source": [
        "from random import randint\n",
        "\n",
        "numbers = [1, 2, 3, 4, 5, 6, 7, 8, 9, 10]\n",
        "numbers.append(randint(11, 20))\n",
        "print(numbers)"
      ],
      "metadata": {
        "colab": {
          "base_uri": "https://localhost:8080/"
        },
        "id": "REDMZiNKKUa4",
        "outputId": "8f3e9e3b-31aa-40b9-ba4f-bee4bcb47893"
      },
      "execution_count": 2,
      "outputs": [
        {
          "output_type": "stream",
          "name": "stdout",
          "text": [
            "[1, 2, 3, 4, 5, 6, 7, 8, 9, 10, 11]\n"
          ]
        }
      ]
    },
    {
      "cell_type": "markdown",
      "source": [
        "### Problem 3\n",
        "Write a Python program to insert a new item before the last element in an existing array. \\\\\n",
        "Original array: numbers = [1, 2, 3, 4, 5, 6, 7, 8, 9, 10]"
      ],
      "metadata": {
        "id": "IuAb-LN3Kohe"
      }
    },
    {
      "cell_type": "code",
      "source": [
        "from random import randint\n",
        "\n",
        "numbers = [1, 2, 3, 4, 5, 6, 7, 8, 9, 10]\n",
        "numbers.insert(-1, randint(11, 20))\n",
        "print(numbers)"
      ],
      "metadata": {
        "colab": {
          "base_uri": "https://localhost:8080/"
        },
        "id": "NEQOQ5yLKvi8",
        "outputId": "db9a8fa8-39fb-45d1-fb07-550bbabd072c"
      },
      "execution_count": 3,
      "outputs": [
        {
          "output_type": "stream",
          "name": "stdout",
          "text": [
            "[1, 2, 3, 4, 5, 6, 7, 8, 9, 15, 10]\n"
          ]
        }
      ]
    },
    {
      "cell_type": "markdown",
      "source": [
        "### Problem 4\n",
        "Write a Python program to reverse the order of the items in the array. \\\\\n",
        "Original array: numbers = [1, 2, 3, 4, 5]"
      ],
      "metadata": {
        "id": "BXx-XNdKLE82"
      }
    },
    {
      "cell_type": "code",
      "source": [
        "from random import randint\n",
        "\n",
        "numbers = [1, 2, 3, 4, 5]\n",
        "numbers.reverse()\n",
        "print(numbers)"
      ],
      "metadata": {
        "colab": {
          "base_uri": "https://localhost:8080/"
        },
        "id": "E0NvAOw2LM0W",
        "outputId": "cae817e1-6cf4-4807-ea8d-af2246dd53b7"
      },
      "execution_count": 4,
      "outputs": [
        {
          "output_type": "stream",
          "name": "stdout",
          "text": [
            "[5, 4, 3, 2, 1]\n"
          ]
        }
      ]
    },
    {
      "cell_type": "markdown",
      "source": [
        "### Problem 5\n",
        "Let A be an array of size n ≥ 2 containing integers from 1 to n - 1, inclusive, with exactly one repeated. Create an algorithm for finding the integer in A that is repeated."
      ],
      "metadata": {
        "id": "LYik9EA1LecK"
      }
    },
    {
      "cell_type": "code",
      "source": [
        "from random import randint, randrange\n",
        "\n",
        "# Constructing a test array\n",
        "def test_array(n):\n",
        "  aList = [i for i in range(1, n)]\n",
        "  aList.append(randint(1, n - 1))\n",
        "  aList.sort(key=randrange)\n",
        "  return aList\n",
        "\n",
        "A = test_array(30)\n",
        "print(\"A =\", A)\n",
        "\n",
        "# Algorithm proper\n",
        "def find_double(aList):\n",
        "  for n in aList:\n",
        "    if aList.count(n) == 2:\n",
        "      return n\n",
        "\n",
        "print(\"Integer repeated in A:\", find_double(A))"
      ],
      "metadata": {
        "colab": {
          "base_uri": "https://localhost:8080/"
        },
        "id": "i09mT5ZDL7lr",
        "outputId": "c4d95d09-63c3-45c8-a767-78ff817954d1"
      },
      "execution_count": 8,
      "outputs": [
        {
          "output_type": "stream",
          "name": "stdout",
          "text": [
            "A = [1, 2, 7, 23, 3, 5, 8, 4, 28, 6, 12, 17, 15, 16, 22, 10, 9, 11, 21, 26, 10, 14, 20, 13, 18, 19, 24, 29, 25, 27]\n",
            "Integer repeated in A: 10\n"
          ]
        }
      ]
    }
  ]
}