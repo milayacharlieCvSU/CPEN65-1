{
  "nbformat": 4,
  "nbformat_minor": 0,
  "metadata": {
    "colab": {
      "provenance": [],
      "authorship_tag": "ABX9TyO2zcc09HPhgwtI7RO008xl",
      "include_colab_link": true
    },
    "kernelspec": {
      "name": "python3",
      "display_name": "Python 3"
    },
    "language_info": {
      "name": "python"
    }
  },
  "cells": [
    {
      "cell_type": "markdown",
      "metadata": {
        "id": "view-in-github",
        "colab_type": "text"
      },
      "source": [
        "<a href=\"https://colab.research.google.com/github/milayacharlieCvSU/CPEN65-1/blob/main/Milaya%2CCharlie_Midterm_Exam.ipynb\" target=\"_parent\"><img src=\"https://colab.research.google.com/assets/colab-badge.svg\" alt=\"Open In Colab\"/></a>"
      ]
    },
    {
      "cell_type": "markdown",
      "source": [
        "### Problem 1\n",
        "Write a Python program to create an array of 10 integers and display the array items. Access individual elements through indexes and compute for the sum."
      ],
      "metadata": {
        "id": "DT2X0WajIQ0k"
      }
    },
    {
      "cell_type": "code",
      "execution_count": 1,
      "metadata": {
        "colab": {
          "base_uri": "https://localhost:8080/"
        },
        "id": "D2MbDqV0H9-T",
        "outputId": "7c6ee4b5-a46d-42dc-ee8d-dd843047f47c"
      },
      "outputs": [
        {
          "output_type": "stream",
          "name": "stdout",
          "text": [
            "numbers = [19, 18, 12, 18, 14, 2, 16, 20, 16, 13]\n",
            "numbers[0] = 19\n",
            "numbers[1] = 18\n",
            "numbers[2] = 12\n",
            "numbers[3] = 18\n",
            "numbers[4] = 14\n",
            "numbers[5] =  2\n",
            "numbers[6] = 16\n",
            "numbers[7] = 20\n",
            "numbers[8] = 16\n",
            "numbers[9] = 13\n",
            "Sum of integers in numbers: 148\n"
          ]
        }
      ],
      "source": [
        "from random import randint\n",
        "\n",
        "numbers = [randint(1, 20) for n in range(10)]\n",
        "print(\"numbers =\", numbers)\n",
        "\n",
        "total = 0\n",
        "for i in range(10):\n",
        "  total += numbers[i]\n",
        "  print(\"numbers[%d] = %2d\" % (i, numbers[i]))\n",
        "print(\"Sum of integers in numbers:\", total)"
      ]
    },
    {
      "cell_type": "markdown",
      "source": [
        "### Problem 2\n",
        "Write a Python program to append a new item to the end of the array. \\\\\n",
        "Original array: numbers = [1, 2, 3, 4, 5, 6, 7, 8, 9, 10]"
      ],
      "metadata": {
        "id": "TAbCOTqOKL8d"
      }
    },
    {
      "cell_type": "code",
      "source": [
        "from random import randint\n",
        "\n",
        "numbers = [1, 2, 3, 4, 5, 6, 7, 8, 9, 10]\n",
        "numbers.append(randint(11, 20))\n",
        "print(numbers)"
      ],
      "metadata": {
        "colab": {
          "base_uri": "https://localhost:8080/"
        },
        "id": "REDMZiNKKUa4",
        "outputId": "f3966b88-ac51-41cb-aa5a-f8bf82ce8e07"
      },
      "execution_count": 2,
      "outputs": [
        {
          "output_type": "stream",
          "name": "stdout",
          "text": [
            "[1, 2, 3, 4, 5, 6, 7, 8, 9, 10, 18]\n"
          ]
        }
      ]
    },
    {
      "cell_type": "markdown",
      "source": [
        "### Problem 3\n",
        "Write a Python program to insert a new item before the last element in an existing array. \\\\\n",
        "Original array: numbers = [1, 2, 3, 4, 5, 6, 7, 8, 9, 10]"
      ],
      "metadata": {
        "id": "IuAb-LN3Kohe"
      }
    },
    {
      "cell_type": "code",
      "source": [
        "from random import randint\n",
        "\n",
        "numbers = [1, 2, 3, 4, 5, 6, 7, 8, 9, 10]\n",
        "numbers.insert(-1, randint(11, 20))\n",
        "print(numbers)"
      ],
      "metadata": {
        "colab": {
          "base_uri": "https://localhost:8080/"
        },
        "id": "NEQOQ5yLKvi8",
        "outputId": "40118628-ba8c-4f11-95f4-362d9ed73637"
      },
      "execution_count": 3,
      "outputs": [
        {
          "output_type": "stream",
          "name": "stdout",
          "text": [
            "[1, 2, 3, 4, 5, 6, 7, 8, 9, 19, 10]\n"
          ]
        }
      ]
    },
    {
      "cell_type": "markdown",
      "source": [
        "### Problem 4\n",
        "Write a Python program to reverse the order of the items in the array. \\\\\n",
        "Original array: numbers = [1, 2, 3, 4, 5]"
      ],
      "metadata": {
        "id": "BXx-XNdKLE82"
      }
    },
    {
      "cell_type": "code",
      "source": [
        "numbers = [1, 2, 3, 4, 5]\n",
        "numbers.reverse()\n",
        "print(numbers)"
      ],
      "metadata": {
        "colab": {
          "base_uri": "https://localhost:8080/"
        },
        "id": "E0NvAOw2LM0W",
        "outputId": "fd92403d-cb26-4f50-e5a7-3ac0e968d003"
      },
      "execution_count": 4,
      "outputs": [
        {
          "output_type": "stream",
          "name": "stdout",
          "text": [
            "[5, 4, 3, 2, 1]\n"
          ]
        }
      ]
    },
    {
      "cell_type": "markdown",
      "source": [
        "### Problem 5\n",
        "Let A be an array of size n ≥ 2 containing integers from 1 to n - 1, inclusive, with exactly one repeated. Create an algorithm for finding the integer in A that is repeated."
      ],
      "metadata": {
        "id": "LYik9EA1LecK"
      }
    },
    {
      "cell_type": "code",
      "source": [
        "from random import randint, randrange\n",
        "\n",
        "# Constructing a test array\n",
        "def test_array(n):\n",
        "  aList = [i for i in range(1, n)]\n",
        "  aList.append(randint(1, n - 1))\n",
        "  aList.sort(key=randrange)\n",
        "  return aList\n",
        "\n",
        "A = test_array(30)\n",
        "print(\"A =\", A)\n",
        "\n",
        "# Algorithm proper\n",
        "def find_double(aList):\n",
        "  for n in aList:\n",
        "    if aList.count(n) == 2:\n",
        "      return n\n",
        "\n",
        "print(\"Integer repeated in A:\", find_double(A))"
      ],
      "metadata": {
        "colab": {
          "base_uri": "https://localhost:8080/"
        },
        "id": "i09mT5ZDL7lr",
        "outputId": "396b15ee-1d8c-4c5b-e446-6615eb7a18e8"
      },
      "execution_count": 8,
      "outputs": [
        {
          "output_type": "stream",
          "name": "stdout",
          "text": [
            "A = [1, 2, 4, 8, 11, 3, 19, 3, 5, 6, 7, 13, 9, 15, 16, 10, 12, 14, 18, 26, 17, 24, 22, 27, 20, 21, 29, 23, 25, 28]\n",
            "Integer repeated in A: 3\n"
          ]
        }
      ]
    }
  ]
}