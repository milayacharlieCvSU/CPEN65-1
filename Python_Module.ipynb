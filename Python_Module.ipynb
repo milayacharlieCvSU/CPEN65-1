{
  "nbformat": 4,
  "nbformat_minor": 0,
  "metadata": {
    "colab": {
      "provenance": [],
      "authorship_tag": "ABX9TyM56iTyWmm72fDMKCGZ/bVw",
      "include_colab_link": true
    },
    "kernelspec": {
      "name": "python3",
      "display_name": "Python 3"
    },
    "language_info": {
      "name": "python"
    }
  },
  "cells": [
    {
      "cell_type": "markdown",
      "metadata": {
        "id": "view-in-github",
        "colab_type": "text"
      },
      "source": [
        "<a href=\"https://colab.research.google.com/github/milayacharlieCvSU/CPEN65-1/blob/main/Python_Module.ipynb\" target=\"_parent\"><img src=\"https://colab.research.google.com/assets/colab-badge.svg\" alt=\"Open In Colab\"/></a>"
      ]
    },
    {
      "cell_type": "markdown",
      "source": [
        "Array Module in Python"
      ],
      "metadata": {
        "id": "nc3TpjG-bTTL"
      }
    },
    {
      "cell_type": "code",
      "source": [
        "# getting typecodes\n",
        "import array as arr\n",
        "arr.typecodes\n",
        "a = arr.array('i', [1, 2, 3, 4, 5])\n",
        "print(a.typecode)\n",
        "\n",
        "b = arr.array('f', [1.5, 2.5, 3.5, 4.5, 5.5])\n",
        "print(b.typecode)"
      ],
      "metadata": {
        "colab": {
          "base_uri": "https://localhost:8080/"
        },
        "id": "a_Ba5MsZbXSO",
        "outputId": "622ed832-bc5d-482d-d29f-8cebcd80169b"
      },
      "execution_count": 4,
      "outputs": [
        {
          "output_type": "stream",
          "name": "stdout",
          "text": [
            "i\n",
            "f\n"
          ]
        }
      ]
    },
    {
      "cell_type": "code",
      "source": [
        "# What are the input of these codes\n",
        "import array as arr\n",
        "a = arr.array('i', [4, 5, 6, 7])\n",
        "print(a)\n",
        "\n",
        "c = a.insert(1, 2)\n",
        "print(a)\n",
        "a.insert(-1, 0)\n",
        "print(a)\n",
        "a.insert(6, 8)\n",
        "print(a)\n",
        "a.insert(10, -1)\n",
        "print(a)"
      ],
      "metadata": {
        "colab": {
          "base_uri": "https://localhost:8080/"
        },
        "id": "a5cLQAUXbyt4",
        "outputId": "29b1f03b-b447-4d8c-9cb9-be0254c4bf98"
      },
      "execution_count": 6,
      "outputs": [
        {
          "output_type": "stream",
          "name": "stdout",
          "text": [
            "array('i', [4, 5, 6, 7])\n",
            "array('i', [4, 2, 5, 6, 7])\n",
            "array('i', [4, 2, 5, 6, 0, 7])\n",
            "array('i', [4, 2, 5, 6, 0, 7, 8])\n",
            "array('i', [4, 2, 5, 6, 0, 7, 8, -1])\n"
          ]
        }
      ]
    },
    {
      "cell_type": "markdown",
      "source": [
        "Linked List"
      ],
      "metadata": {
        "id": "yVLEICNBWOCE"
      }
    },
    {
      "cell_type": "code",
      "execution_count": 9,
      "metadata": {
        "colab": {
          "base_uri": "https://localhost:8080/"
        },
        "id": "yX2fNRE7WDjY",
        "outputId": "78b6afbd-cb2d-47b5-e208-21a9554be68e"
      },
      "outputs": [
        {
          "output_type": "stream",
          "name": "stdout",
          "text": [
            "a\n",
            "e\n",
            "i\n",
            "o\n",
            "u\n"
          ]
        }
      ],
      "source": [
        "# Python program to create a singly linked of vowel in English\n",
        "\n",
        "# Node Class\n",
        "\n",
        "class Node:\n",
        "  # function to initialize the node object\n",
        "  def __init__(self, data):\n",
        "    self.data = data # assign data\n",
        "    self.next = None\n",
        "\n",
        "# Linked List that contains node object\n",
        "class LinkedList:\n",
        "  def __init__(self):\n",
        "    self.head = None\n",
        "  def printList(self):\n",
        "    temp = self.head\n",
        "    while(temp):\n",
        "      print(temp.data)\n",
        "      temp = temp.next\n",
        "\n",
        "# code execution starting from empty list\n",
        "llist = LinkedList()\n",
        "llist.head = Node('a')\n",
        "second = Node('e')\n",
        "third = Node('i')\n",
        "forth = Node('o')\n",
        "fifth = Node('u')\n",
        "\n",
        "llist.head.next = second\n",
        "second.next = third\n",
        "third.next = forth\n",
        "forth.next = fifth\n",
        "\n",
        "llist.printList()"
      ]
    }
  ]
}