{
  "nbformat": 4,
  "nbformat_minor": 0,
  "metadata": {
    "colab": {
      "provenance": [],
      "authorship_tag": "ABX9TyMV4jyu4/2xVGHFkX+/FOxc",
      "include_colab_link": true
    },
    "kernelspec": {
      "name": "python3",
      "display_name": "Python 3"
    },
    "language_info": {
      "name": "python"
    }
  },
  "cells": [
    {
      "cell_type": "markdown",
      "metadata": {
        "id": "view-in-github",
        "colab_type": "text"
      },
      "source": [
        "<a href=\"https://colab.research.google.com/github/milayacharlieCvSU/CPEN65-1/blob/main/Activity_2.ipynb\" target=\"_parent\"><img src=\"https://colab.research.google.com/assets/colab-badge.svg\" alt=\"Open In Colab\"/></a>"
      ]
    },
    {
      "cell_type": "code",
      "execution_count": 3,
      "metadata": {
        "colab": {
          "base_uri": "https://localhost:8080/"
        },
        "id": "7DLH90F5EM6c",
        "outputId": "20e18b9e-8af3-49c7-f3b1-2aaca4646590"
      },
      "outputs": [
        {
          "output_type": "stream",
          "name": "stdout",
          "text": [
            "Charlie Milaya\n",
            "ayaliM eilrahC\n"
          ]
        }
      ],
      "source": [
        "# Create a Python program that uses array\n",
        "# inserts each character of your full name and displays each character \n",
        "# of your full name in reverse.\n",
        "\n",
        "full_name = \"Charlie Milaya\"\n",
        "print(full_name)\n",
        "\n",
        "name = []\n",
        "for char in full_name:\n",
        "    name.append(char)\n",
        "name.reverse()\n",
        "\n",
        "revrsd_name = ''\n",
        "for char in name:\n",
        "    revrsd_name += char\n",
        "print(revrsd_name)"
      ]
    }
  ]
}